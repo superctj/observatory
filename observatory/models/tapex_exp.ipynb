{
 "cells": [
  {
   "cell_type": "code",
   "execution_count": 1,
   "metadata": {},
   "outputs": [
    {
     "name": "stderr",
     "output_type": "stream",
     "text": [
      "c:\\Users\\Ben\\anaconda3\\envs\\545\\lib\\site-packages\\transformers\\generation\\utils.py:1288: UserWarning: Neither `max_length` nor `max_new_tokens` has been set, `max_length` will default to 1024 (`generation_config.max_length`). Controlling `max_length` via the config is deprecated and `max_length` will be removed from the config in v5 of Transformers -- we recommend using `max_new_tokens` to control the maximum length of the generation.\n",
      "  warnings.warn(\n"
     ]
    },
    {
     "name": "stdout",
     "output_type": "stream",
     "text": [
      " kalimba edwards\n"
     ]
    }
   ],
   "source": [
    "from transformers import AutoTokenizer, AutoModelForSeq2SeqLM\n",
    "import pandas as pd\n",
    "\n",
    "tokenizer = AutoTokenizer.from_pretrained(\"microsoft/tapex-large-finetuned-wtq\")\n",
    "model = AutoModelForSeq2SeqLM.from_pretrained(\"microsoft/tapex-large-finetuned-wtq\")\n",
    "\n",
    "# prepare table + question\n",
    "data = {\"Actors\": [\"Brad Pitt\", \"Leonardo Di Caprio\", \"George Clooney\"], \"Number of movies\": [\"87\", \"53\", \"69\"]}\n",
    "table = pd.DataFrame.from_dict(data)\n",
    "question = \"abc\"\n",
    "\n",
    "encoding = tokenizer(table, question, return_tensors=\"pt\")\n",
    "\n",
    "# let the model generate an answer autoregressively\n",
    "outputs = model.generate(**encoding)\n",
    "\n",
    "# decode back to text\n",
    "predicted_answer = tokenizer.batch_decode(outputs, skip_special_tokens=True)[0]\n",
    "print(predicted_answer)"
   ]
  },
  {
   "cell_type": "code",
   "execution_count": 19,
   "metadata": {},
   "outputs": [
    {
     "name": "stdout",
     "output_type": "stream",
     "text": [
      "['act', 'ors']\n",
      "[7257, 994]\n"
     ]
    }
   ],
   "source": [
    "tokenizer = AutoTokenizer.from_pretrained(\"microsoft/tapex-large-finetuned-tabfact\")\n",
    "col_tokens = tokenizer.tokenize(\"Actors\")\n",
    "input_ids = tokenizer.convert_tokens_to_ids(col_tokens)\n",
    "print(col_tokens)\n",
    "print(input_ids)"
   ]
  },
  {
   "cell_type": "code",
   "execution_count": 3,
   "metadata": {},
   "outputs": [
    {
     "data": {
      "text/plain": [
       "TapexTokenizer(name_or_path='microsoft/tapex-large-finetuned-tabfact', vocab_size=50265, model_max_length=1024, is_fast=False, padding_side='right', truncation_side='right', special_tokens={'bos_token': AddedToken(\"<s>\", rstrip=False, lstrip=False, single_word=False, normalized=True), 'eos_token': AddedToken(\"</s>\", rstrip=False, lstrip=False, single_word=False, normalized=True), 'unk_token': AddedToken(\"<unk>\", rstrip=False, lstrip=False, single_word=False, normalized=True), 'sep_token': AddedToken(\"</s>\", rstrip=False, lstrip=False, single_word=False, normalized=True), 'pad_token': AddedToken(\"<pad>\", rstrip=False, lstrip=False, single_word=False, normalized=True), 'cls_token': AddedToken(\"<s>\", rstrip=False, lstrip=False, single_word=False, normalized=True), 'mask_token': AddedToken(\"<mask>\", rstrip=False, lstrip=True, single_word=False, normalized=True)})"
      ]
     },
     "execution_count": 3,
     "metadata": {},
     "output_type": "execute_result"
    }
   ],
   "source": [
    "tokenizer"
   ]
  },
  {
   "cell_type": "code",
   "execution_count": 4,
   "metadata": {},
   "outputs": [
    {
     "name": "stderr",
     "output_type": "stream",
     "text": [
      "You provide nothing to query with respect to the table.\n"
     ]
    },
    {
     "name": "stdout",
     "output_type": "stream",
     "text": [
      "{'input_ids': tensor([[    0,  9119,  4832,  5552,  1721,   346,     9,  4133,  3236,   112,\n",
      "          4832,  5378,   625,   181,  2582,  1721,  8176,  3236,   132,  4832,\n",
      "          2084,   261,  6782,  2269,  2927, 12834,  1721,  4268,  3236,   155,\n",
      "          4832,  5473, 26875, 42771,  6071,  1721,  5913,     2]]), 'attention_mask': tensor([[1, 1, 1, 1, 1, 1, 1, 1, 1, 1, 1, 1, 1, 1, 1, 1, 1, 1, 1, 1, 1, 1, 1, 1,\n",
      "         1, 1, 1, 1, 1, 1, 1, 1, 1, 1, 1, 1, 1, 1]])}\n"
     ]
    }
   ],
   "source": [
    "data = {\"Actors\": [\"Brad Pitt\", \"Leonardo Di Caprio\", \"George Clooney\"], \"Number of movies\": [\"87\", \"53\", \"69\"]}\n",
    "table = pd.DataFrame.from_dict(data)\n",
    "encoding = tokenizer(table, \"\", return_tensors=\"pt\")\n",
    "print(encoding)"
   ]
  },
  {
   "cell_type": "code",
   "execution_count": 5,
   "metadata": {},
   "outputs": [
    {
     "name": "stderr",
     "output_type": "stream",
     "text": [
      "You provide nothing to query with respect to the table.\n"
     ]
    },
    {
     "name": "stdout",
     "output_type": "stream",
     "text": [
      "{'input_ids': tensor([[   0, 9119, 4832, 5552, 1721,  346,    9, 4133, 3236,  112, 4832, 5378,\n",
      "          625,  181, 2582, 1721, 8176,    2]]), 'attention_mask': tensor([[1, 1, 1, 1, 1, 1, 1, 1, 1, 1, 1, 1, 1, 1, 1, 1, 1, 1]])}\n"
     ]
    }
   ],
   "source": [
    "data = {\"Actors\": [\"Brad Pitt\"], \"Number of movies\": [\"87\"]}\n",
    "table = pd.DataFrame.from_dict(data)\n",
    "encoding = tokenizer(table, \"\", return_tensors=\"pt\")\n",
    "print(encoding)"
   ]
  },
  {
   "cell_type": "code",
   "execution_count": 6,
   "metadata": {},
   "outputs": [
    {
     "name": "stderr",
     "output_type": "stream",
     "text": [
      "You provide nothing to query with respect to the table.\n"
     ]
    },
    {
     "name": "stdout",
     "output_type": "stream",
     "text": [
      "tensor([[    0,  9119,  4832,  5552,  3236,   112,  4832,  5378,   625,   181,\n",
      "          2582,  3236,   132,  4832,  2084,   261,  6782,  2269,  2927, 12834,\n",
      "          3236,   155,  4832,  5473, 26875, 42771,  6071,     2]])\n"
     ]
    }
   ],
   "source": [
    "data = {\"Actors\": [\"Brad Pitt\", \"Leonardo Di Caprio\", \"George Clooney\"]}\n",
    "table = pd.DataFrame.from_dict(data)\n",
    "encoding = tokenizer(table, \"\", return_tensors=\"pt\")\n",
    "print(encoding['input_ids'])"
   ]
  },
  {
   "cell_type": "code",
   "execution_count": 7,
   "metadata": {},
   "outputs": [
    {
     "name": "stderr",
     "output_type": "stream",
     "text": [
      "You provide nothing to query with respect to the table.\n"
     ]
    },
    {
     "name": "stdout",
     "output_type": "stream",
     "text": [
      "tensor([[    0,  9119,  4832,  5552,  3236,   112,  4832,  5378,   625,   181,\n",
      "          2582,  3236,   132,  4832,  2084,   261,  6782,  2269,  2927, 12834,\n",
      "             2]])\n"
     ]
    }
   ],
   "source": [
    "data = {\"Actors\": [\"Brad Pitt\", \"Leonardo Di Caprio\"]}\n",
    "table = pd.DataFrame.from_dict(data)\n",
    "encoding = tokenizer(table, \"\", return_tensors=\"pt\")\n",
    "print(encoding['input_ids'])"
   ]
  },
  {
   "cell_type": "code",
   "execution_count": 8,
   "metadata": {},
   "outputs": [
    {
     "name": "stderr",
     "output_type": "stream",
     "text": [
      "You provide nothing to query with respect to the table.\n"
     ]
    },
    {
     "name": "stdout",
     "output_type": "stream",
     "text": [
      "tensor([[   0, 9119, 4832, 5552, 3236,  112, 4832, 5378,  625,  181, 2582,    2]])\n"
     ]
    }
   ],
   "source": [
    "data = {\"Actors\": [\"Brad Pitt\"]}\n",
    "table = pd.DataFrame.from_dict(data)\n",
    "encoding = tokenizer(table, \"\", return_tensors=\"pt\")\n",
    "print(encoding['input_ids'])"
   ]
  },
  {
   "cell_type": "code",
   "execution_count": 14,
   "metadata": {},
   "outputs": [
    {
     "name": "stderr",
     "output_type": "stream",
     "text": [
      "You provide nothing to query with respect to the table.\n"
     ]
    },
    {
     "name": "stdout",
     "output_type": "stream",
     "text": [
      "tensor([[   0, 9119, 4832, 5552, 1721,  346,    9, 4133, 3236,  112, 4832, 1437,\n",
      "         1721,    2]])\n"
     ]
    }
   ],
   "source": [
    "data = {\"Actors\": [], \"Number of movies\": []}\n",
    "table = pd.DataFrame.from_dict(data)\n",
    "encoding = tokenizer(table, \"\", return_tensors=\"pt\")\n",
    "print(encoding['input_ids'])"
   ]
  },
  {
   "cell_type": "code",
   "execution_count": 18,
   "metadata": {},
   "outputs": [
    {
     "name": "stderr",
     "output_type": "stream",
     "text": [
      "You provide nothing to query with respect to the table.\n"
     ]
    },
    {
     "name": "stdout",
     "output_type": "stream",
     "text": [
      "tensor([[   0, 9119, 4832, 5552, 3236,  112, 4832,    2]])\n"
     ]
    }
   ],
   "source": [
    "data = {\"Actors\": [\"\"]}\n",
    "table = pd.DataFrame.from_dict(data)\n",
    "encoding = tokenizer(table, \"\", return_tensors=\"pt\")\n",
    "print(encoding['input_ids'])"
   ]
  },
  {
   "cell_type": "code",
   "execution_count": 17,
   "metadata": {},
   "outputs": [
    {
     "name": "stderr",
     "output_type": "stream",
     "text": [
      "You provide nothing to query with respect to the table.\n"
     ]
    },
    {
     "name": "stdout",
     "output_type": "stream",
     "text": [
      "tensor([[   0, 9119, 4832, 1437, 3236,  112, 4832,    2]])\n"
     ]
    }
   ],
   "source": [
    "data = {\"\": [\"\"]}\n",
    "table = pd.DataFrame.from_dict(data)\n",
    "encoding = tokenizer(table, \"\", return_tensors=\"pt\")\n",
    "print(encoding['input_ids'])"
   ]
  },
  {
   "cell_type": "code",
   "execution_count": 13,
   "metadata": {},
   "outputs": [
    {
     "name": "stdout",
     "output_type": "stream",
     "text": [
      "torch.Size([1, 9, 1024])\n",
      "torch.Size([1, 9, 1024])\n"
     ]
    }
   ],
   "source": [
    "def get_decoder_output_before_lm_head(model, tokenizer, table, question):\n",
    "    # Tokenize the table and question\n",
    "    encoding = tokenizer(table, question, return_tensors=\"pt\")\n",
    "    input_ids = encoding['input_ids']\n",
    "    attention_mask = encoding.get('attention_mask', None)\n",
    "\n",
    "    # Directly use the model's BART structure to get the encoder's output\n",
    "    encoder_outputs = model.model.encoder(input_ids, attention_mask=attention_mask)\n",
    "    print(encoder_outputs[0].shape)\n",
    "\n",
    "    # Retrieve decoder's output using encoder's outputs and attention mask\n",
    "    decoder_outputs = model.model.decoder(\n",
    "        input_ids=input_ids, \n",
    "        encoder_hidden_states=encoder_outputs[0], \n",
    "        attention_mask=attention_mask\n",
    "    )\n",
    "\n",
    "    # The first output of the decoder contains the last hidden states\n",
    "    return decoder_outputs[0]\n",
    "\n",
    "# Example usage:\n",
    "decoder_output = get_decoder_output_before_lm_head(model, tokenizer, table, question)\n",
    "print(decoder_output.shape)\n"
   ]
  }
 ],
 "metadata": {
  "kernelspec": {
   "display_name": "545",
   "language": "python",
   "name": "python3"
  },
  "language_info": {
   "codemirror_mode": {
    "name": "ipython",
    "version": 3
   },
   "file_extension": ".py",
   "mimetype": "text/x-python",
   "name": "python",
   "nbconvert_exporter": "python",
   "pygments_lexer": "ipython3",
   "version": "3.10.9"
  },
  "orig_nbformat": 4
 },
 "nbformat": 4,
 "nbformat_minor": 2
}
