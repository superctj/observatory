{
 "cells": [
  {
   "cell_type": "code",
   "execution_count": 1,
   "metadata": {},
   "outputs": [
    {
     "data": {
      "text/html": [
       "<div>\n",
       "<style scoped>\n",
       "    .dataframe tbody tr th:only-of-type {\n",
       "        vertical-align: middle;\n",
       "    }\n",
       "\n",
       "    .dataframe tbody tr th {\n",
       "        vertical-align: top;\n",
       "    }\n",
       "\n",
       "    .dataframe thead th {\n",
       "        text-align: right;\n",
       "    }\n",
       "</style>\n",
       "<table border=\"1\" class=\"dataframe\">\n",
       "  <thead>\n",
       "    <tr style=\"text-align: right;\">\n",
       "      <th></th>\n",
       "      <th>int</th>\n",
       "      <th>str</th>\n",
       "      <th>duplicates</th>\n",
       "    </tr>\n",
       "  </thead>\n",
       "  <tbody>\n",
       "    <tr>\n",
       "      <th>0</th>\n",
       "      <td>1</td>\n",
       "      <td>apple</td>\n",
       "      <td>dog</td>\n",
       "    </tr>\n",
       "    <tr>\n",
       "      <th>1</th>\n",
       "      <td>2</td>\n",
       "      <td>pear</td>\n",
       "      <td>cat</td>\n",
       "    </tr>\n",
       "    <tr>\n",
       "      <th>2</th>\n",
       "      <td>3</td>\n",
       "      <td>grape</td>\n",
       "      <td>bird</td>\n",
       "    </tr>\n",
       "    <tr>\n",
       "      <th>3</th>\n",
       "      <td>4</td>\n",
       "      <td>kiwi</td>\n",
       "      <td>cat</td>\n",
       "    </tr>\n",
       "    <tr>\n",
       "      <th>4</th>\n",
       "      <td>5</td>\n",
       "      <td>lime</td>\n",
       "      <td>dog</td>\n",
       "    </tr>\n",
       "  </tbody>\n",
       "</table>\n",
       "</div>"
      ],
      "text/plain": [
       "   int    str duplicates\n",
       "0    1  apple        dog\n",
       "1    2   pear        cat\n",
       "2    3  grape       bird\n",
       "3    4   kiwi        cat\n",
       "4    5   lime        dog"
      ]
     },
     "execution_count": 1,
     "metadata": {},
     "output_type": "execute_result"
    }
   ],
   "source": [
    "%load_ext autoreload\n",
    "%autoreload 2\n",
    "\n",
    "# Importing necessary libraries and the functions from the provided file\n",
    "import pandas as pd\n",
    "from pandas import DataFrame\n",
    "from shuffle_sample import column_shuffle_df, row_shuffle_df, sample_df, get_permutations\n",
    "\n",
    "# Create DataFrame\n",
    "data = {\n",
    "    'int': [1, 2, 3, 4, 5],\n",
    "    'str': ['apple', 'pear', 'grape', 'kiwi', 'lime'],\n",
    "    'duplicates': ['dog', 'cat', 'bird', 'cat', 'dog']\n",
    "}\n",
    "\n",
    "df = pd.DataFrame(data)\n",
    "\n",
    "df\n"
   ]
  },
  {
   "cell_type": "code",
   "execution_count": 2,
   "metadata": {},
   "outputs": [
    {
     "data": {
      "text/html": [
       "<div>\n",
       "<style scoped>\n",
       "    .dataframe tbody tr th:only-of-type {\n",
       "        vertical-align: middle;\n",
       "    }\n",
       "\n",
       "    .dataframe tbody tr th {\n",
       "        vertical-align: top;\n",
       "    }\n",
       "\n",
       "    .dataframe thead th {\n",
       "        text-align: right;\n",
       "    }\n",
       "</style>\n",
       "<table border=\"1\" class=\"dataframe\">\n",
       "  <thead>\n",
       "    <tr style=\"text-align: right;\">\n",
       "      <th></th>\n",
       "      <th>int</th>\n",
       "      <th>str</th>\n",
       "      <th>duplicates</th>\n",
       "    </tr>\n",
       "  </thead>\n",
       "  <tbody>\n",
       "    <tr>\n",
       "      <th>0</th>\n",
       "      <td>1</td>\n",
       "      <td>apple</td>\n",
       "      <td>dog</td>\n",
       "    </tr>\n",
       "    <tr>\n",
       "      <th>1</th>\n",
       "      <td>2</td>\n",
       "      <td>pear</td>\n",
       "      <td>cat</td>\n",
       "    </tr>\n",
       "    <tr>\n",
       "      <th>2</th>\n",
       "      <td>3</td>\n",
       "      <td>grape</td>\n",
       "      <td>bird</td>\n",
       "    </tr>\n",
       "    <tr>\n",
       "      <th>3</th>\n",
       "      <td>4</td>\n",
       "      <td>kiwi</td>\n",
       "      <td>cat</td>\n",
       "    </tr>\n",
       "    <tr>\n",
       "      <th>4</th>\n",
       "      <td>5</td>\n",
       "      <td>lime</td>\n",
       "      <td>dog</td>\n",
       "    </tr>\n",
       "  </tbody>\n",
       "</table>\n",
       "</div>"
      ],
      "text/plain": [
       "   int    str duplicates\n",
       "0    1  apple        dog\n",
       "1    2   pear        cat\n",
       "2    3  grape       bird\n",
       "3    4   kiwi        cat\n",
       "4    5   lime        dog"
      ]
     },
     "execution_count": 2,
     "metadata": {},
     "output_type": "execute_result"
    }
   ],
   "source": [
    "column_shuffle_tables, perms  = column_shuffle_df(df, 10)\n",
    "# The first table will be the original table\n",
    "column_shuffle_tables[0]"
   ]
  },
  {
   "cell_type": "code",
   "execution_count": 3,
   "metadata": {},
   "outputs": [
    {
     "data": {
      "text/html": [
       "<div>\n",
       "<style scoped>\n",
       "    .dataframe tbody tr th:only-of-type {\n",
       "        vertical-align: middle;\n",
       "    }\n",
       "\n",
       "    .dataframe tbody tr th {\n",
       "        vertical-align: top;\n",
       "    }\n",
       "\n",
       "    .dataframe thead th {\n",
       "        text-align: right;\n",
       "    }\n",
       "</style>\n",
       "<table border=\"1\" class=\"dataframe\">\n",
       "  <thead>\n",
       "    <tr style=\"text-align: right;\">\n",
       "      <th></th>\n",
       "      <th>int</th>\n",
       "      <th>duplicates</th>\n",
       "      <th>str</th>\n",
       "    </tr>\n",
       "  </thead>\n",
       "  <tbody>\n",
       "    <tr>\n",
       "      <th>0</th>\n",
       "      <td>1</td>\n",
       "      <td>dog</td>\n",
       "      <td>apple</td>\n",
       "    </tr>\n",
       "    <tr>\n",
       "      <th>1</th>\n",
       "      <td>2</td>\n",
       "      <td>cat</td>\n",
       "      <td>pear</td>\n",
       "    </tr>\n",
       "    <tr>\n",
       "      <th>2</th>\n",
       "      <td>3</td>\n",
       "      <td>bird</td>\n",
       "      <td>grape</td>\n",
       "    </tr>\n",
       "    <tr>\n",
       "      <th>3</th>\n",
       "      <td>4</td>\n",
       "      <td>cat</td>\n",
       "      <td>kiwi</td>\n",
       "    </tr>\n",
       "    <tr>\n",
       "      <th>4</th>\n",
       "      <td>5</td>\n",
       "      <td>dog</td>\n",
       "      <td>lime</td>\n",
       "    </tr>\n",
       "  </tbody>\n",
       "</table>\n",
       "</div>"
      ],
      "text/plain": [
       "   int duplicates    str\n",
       "0    1        dog  apple\n",
       "1    2        cat   pear\n",
       "2    3       bird  grape\n",
       "3    4        cat   kiwi\n",
       "4    5        dog   lime"
      ]
     },
     "execution_count": 3,
     "metadata": {},
     "output_type": "execute_result"
    }
   ],
   "source": [
    "column_shuffle_tables[1]"
   ]
  },
  {
   "cell_type": "code",
   "execution_count": 4,
   "metadata": {},
   "outputs": [
    {
     "data": {
      "text/html": [
       "<div>\n",
       "<style scoped>\n",
       "    .dataframe tbody tr th:only-of-type {\n",
       "        vertical-align: middle;\n",
       "    }\n",
       "\n",
       "    .dataframe tbody tr th {\n",
       "        vertical-align: top;\n",
       "    }\n",
       "\n",
       "    .dataframe thead th {\n",
       "        text-align: right;\n",
       "    }\n",
       "</style>\n",
       "<table border=\"1\" class=\"dataframe\">\n",
       "  <thead>\n",
       "    <tr style=\"text-align: right;\">\n",
       "      <th></th>\n",
       "      <th>int</th>\n",
       "      <th>str</th>\n",
       "      <th>duplicates</th>\n",
       "    </tr>\n",
       "  </thead>\n",
       "  <tbody>\n",
       "    <tr>\n",
       "      <th>4</th>\n",
       "      <td>5</td>\n",
       "      <td>lime</td>\n",
       "      <td>dog</td>\n",
       "    </tr>\n",
       "    <tr>\n",
       "      <th>2</th>\n",
       "      <td>3</td>\n",
       "      <td>grape</td>\n",
       "      <td>bird</td>\n",
       "    </tr>\n",
       "    <tr>\n",
       "      <th>0</th>\n",
       "      <td>1</td>\n",
       "      <td>apple</td>\n",
       "      <td>dog</td>\n",
       "    </tr>\n",
       "    <tr>\n",
       "      <th>1</th>\n",
       "      <td>2</td>\n",
       "      <td>pear</td>\n",
       "      <td>cat</td>\n",
       "    </tr>\n",
       "    <tr>\n",
       "      <th>3</th>\n",
       "      <td>4</td>\n",
       "      <td>kiwi</td>\n",
       "      <td>cat</td>\n",
       "    </tr>\n",
       "  </tbody>\n",
       "</table>\n",
       "</div>"
      ],
      "text/plain": [
       "   int    str duplicates\n",
       "4    5   lime        dog\n",
       "2    3  grape       bird\n",
       "0    1  apple        dog\n",
       "1    2   pear        cat\n",
       "3    4   kiwi        cat"
      ]
     },
     "execution_count": 4,
     "metadata": {},
     "output_type": "execute_result"
    }
   ],
   "source": [
    "row_shuffle_tables = row_shuffle_df(df, 10)\n",
    "row_shuffle_tables[1]"
   ]
  },
  {
   "cell_type": "code",
   "execution_count": 5,
   "metadata": {},
   "outputs": [
    {
     "data": {
      "text/html": [
       "<div>\n",
       "<style scoped>\n",
       "    .dataframe tbody tr th:only-of-type {\n",
       "        vertical-align: middle;\n",
       "    }\n",
       "\n",
       "    .dataframe tbody tr th {\n",
       "        vertical-align: top;\n",
       "    }\n",
       "\n",
       "    .dataframe thead th {\n",
       "        text-align: right;\n",
       "    }\n",
       "</style>\n",
       "<table border=\"1\" class=\"dataframe\">\n",
       "  <thead>\n",
       "    <tr style=\"text-align: right;\">\n",
       "      <th></th>\n",
       "      <th>int</th>\n",
       "      <th>str</th>\n",
       "      <th>duplicates</th>\n",
       "    </tr>\n",
       "  </thead>\n",
       "  <tbody>\n",
       "    <tr>\n",
       "      <th>1</th>\n",
       "      <td>2</td>\n",
       "      <td>pear</td>\n",
       "      <td>cat</td>\n",
       "    </tr>\n",
       "    <tr>\n",
       "      <th>4</th>\n",
       "      <td>5</td>\n",
       "      <td>lime</td>\n",
       "      <td>dog</td>\n",
       "    </tr>\n",
       "  </tbody>\n",
       "</table>\n",
       "</div>"
      ],
      "text/plain": [
       "   int   str duplicates\n",
       "1    2  pear        cat\n",
       "4    5  lime        dog"
      ]
     },
     "execution_count": 5,
     "metadata": {},
     "output_type": "execute_result"
    }
   ],
   "source": [
    "sample_tables = sample_df(df, 10 , 0.5)\n",
    "sample_tables[1]"
   ]
  },
  {
   "cell_type": "code",
   "execution_count": 6,
   "metadata": {},
   "outputs": [
    {
     "data": {
      "text/html": [
       "<div>\n",
       "<style scoped>\n",
       "    .dataframe tbody tr th:only-of-type {\n",
       "        vertical-align: middle;\n",
       "    }\n",
       "\n",
       "    .dataframe tbody tr th {\n",
       "        vertical-align: top;\n",
       "    }\n",
       "\n",
       "    .dataframe thead th {\n",
       "        text-align: right;\n",
       "    }\n",
       "</style>\n",
       "<table border=\"1\" class=\"dataframe\">\n",
       "  <thead>\n",
       "    <tr style=\"text-align: right;\">\n",
       "      <th></th>\n",
       "      <th>int</th>\n",
       "      <th>str</th>\n",
       "      <th>duplicates</th>\n",
       "    </tr>\n",
       "  </thead>\n",
       "  <tbody>\n",
       "    <tr>\n",
       "      <th>0</th>\n",
       "      <td>1</td>\n",
       "      <td>apple</td>\n",
       "      <td>dog</td>\n",
       "    </tr>\n",
       "    <tr>\n",
       "      <th>1</th>\n",
       "      <td>2</td>\n",
       "      <td>pear</td>\n",
       "      <td>cat</td>\n",
       "    </tr>\n",
       "    <tr>\n",
       "      <th>2</th>\n",
       "      <td>3</td>\n",
       "      <td>grape</td>\n",
       "      <td>bird</td>\n",
       "    </tr>\n",
       "    <tr>\n",
       "      <th>3</th>\n",
       "      <td>4</td>\n",
       "      <td>kiwi</td>\n",
       "      <td>cat</td>\n",
       "    </tr>\n",
       "    <tr>\n",
       "      <th>4</th>\n",
       "      <td>5</td>\n",
       "      <td>lime</td>\n",
       "      <td>dog</td>\n",
       "    </tr>\n",
       "  </tbody>\n",
       "</table>\n",
       "</div>"
      ],
      "text/plain": [
       "   int    str duplicates\n",
       "0    1  apple        dog\n",
       "1    2   pear        cat\n",
       "2    3  grape       bird\n",
       "3    4   kiwi        cat\n",
       "4    5   lime        dog"
      ]
     },
     "execution_count": 6,
     "metadata": {},
     "output_type": "execute_result"
    }
   ],
   "source": [
    "sample_tables[0]"
   ]
  },
  {
   "cell_type": "code",
   "execution_count": 7,
   "metadata": {},
   "outputs": [
    {
     "data": {
      "text/html": [
       "<div>\n",
       "<style scoped>\n",
       "    .dataframe tbody tr th:only-of-type {\n",
       "        vertical-align: middle;\n",
       "    }\n",
       "\n",
       "    .dataframe tbody tr th {\n",
       "        vertical-align: top;\n",
       "    }\n",
       "\n",
       "    .dataframe thead th {\n",
       "        text-align: right;\n",
       "    }\n",
       "</style>\n",
       "<table border=\"1\" class=\"dataframe\">\n",
       "  <thead>\n",
       "    <tr style=\"text-align: right;\">\n",
       "      <th></th>\n",
       "      <th>int</th>\n",
       "      <th>str</th>\n",
       "      <th>duplicates</th>\n",
       "    </tr>\n",
       "  </thead>\n",
       "  <tbody>\n",
       "    <tr>\n",
       "      <th>0</th>\n",
       "      <td>1</td>\n",
       "      <td>apple</td>\n",
       "      <td>dog</td>\n",
       "    </tr>\n",
       "    <tr>\n",
       "      <th>1</th>\n",
       "      <td>2</td>\n",
       "      <td>pear</td>\n",
       "      <td>cat</td>\n",
       "    </tr>\n",
       "    <tr>\n",
       "      <th>4</th>\n",
       "      <td>5</td>\n",
       "      <td>lime</td>\n",
       "      <td>dog</td>\n",
       "    </tr>\n",
       "  </tbody>\n",
       "</table>\n",
       "</div>"
      ],
      "text/plain": [
       "   int    str duplicates\n",
       "0    1  apple        dog\n",
       "1    2   pear        cat\n",
       "4    5   lime        dog"
      ]
     },
     "execution_count": 7,
     "metadata": {},
     "output_type": "execute_result"
    }
   ],
   "source": [
    "from single_table_processing import get_most_similar_rows\n",
    "text_to_compare = \"My dog loves to eat pear\"\n",
    "similar_rows = get_most_similar_rows(df, text_to_compare, k = 3)\n",
    "similar_rows"
   ]
  },
  {
   "cell_type": "code",
   "execution_count": 8,
   "metadata": {},
   "outputs": [
    {
     "name": "stdout",
     "output_type": "stream",
     "text": [
      "   int    str duplicates\n",
      "0    1  apple        dog\n",
      "1    2   pear        cat\n",
      "4    5   lime        dog\n",
      "2    3  grape       bird\n",
      "3    4   kiwi        cat\n"
     ]
    }
   ],
   "source": [
    "\n",
    "from single_table_processing import get_most_similar_rows\n",
    "\n",
    "\n",
    "text_to_compare = \"My dog loves to eat pear\"\n",
    "similar_rows = get_most_similar_rows(df, text_to_compare)\n",
    "print(similar_rows)\n"
   ]
  },
  {
   "cell_type": "code",
   "execution_count": 9,
   "metadata": {},
   "outputs": [
    {
     "data": {
      "text/html": [
       "<div>\n",
       "<style scoped>\n",
       "    .dataframe tbody tr th:only-of-type {\n",
       "        vertical-align: middle;\n",
       "    }\n",
       "\n",
       "    .dataframe tbody tr th {\n",
       "        vertical-align: top;\n",
       "    }\n",
       "\n",
       "    .dataframe thead th {\n",
       "        text-align: right;\n",
       "    }\n",
       "</style>\n",
       "<table border=\"1\" class=\"dataframe\">\n",
       "  <thead>\n",
       "    <tr style=\"text-align: right;\">\n",
       "      <th></th>\n",
       "      <th>int</th>\n",
       "      <th>str</th>\n",
       "      <th>duplicates</th>\n",
       "    </tr>\n",
       "  </thead>\n",
       "  <tbody>\n",
       "    <tr>\n",
       "      <th>0</th>\n",
       "      <td>1</td>\n",
       "      <td>apple</td>\n",
       "      <td>dog</td>\n",
       "    </tr>\n",
       "    <tr>\n",
       "      <th>1</th>\n",
       "      <td>2</td>\n",
       "      <td>pear</td>\n",
       "      <td>cat</td>\n",
       "    </tr>\n",
       "    <tr>\n",
       "      <th>4</th>\n",
       "      <td>5</td>\n",
       "      <td>lime</td>\n",
       "      <td>dog</td>\n",
       "    </tr>\n",
       "  </tbody>\n",
       "</table>\n",
       "</div>"
      ],
      "text/plain": [
       "   int    str duplicates\n",
       "0    1  apple        dog\n",
       "1    2   pear        cat\n",
       "4    5   lime        dog"
      ]
     },
     "execution_count": 9,
     "metadata": {},
     "output_type": "execute_result"
    }
   ],
   "source": [
    "similar_rows = get_most_similar_rows(df, text_to_compare, k = 3)\n",
    "similar_rows"
   ]
  },
  {
   "cell_type": "code",
   "execution_count": 10,
   "metadata": {},
   "outputs": [
    {
     "data": {
      "text/html": [
       "<div>\n",
       "<style scoped>\n",
       "    .dataframe tbody tr th:only-of-type {\n",
       "        vertical-align: middle;\n",
       "    }\n",
       "\n",
       "    .dataframe tbody tr th {\n",
       "        vertical-align: top;\n",
       "    }\n",
       "\n",
       "    .dataframe thead th {\n",
       "        text-align: right;\n",
       "    }\n",
       "</style>\n",
       "<table border=\"1\" class=\"dataframe\">\n",
       "  <thead>\n",
       "    <tr style=\"text-align: right;\">\n",
       "      <th></th>\n",
       "      <th>duplicates</th>\n",
       "      <th>str</th>\n",
       "      <th>int</th>\n",
       "    </tr>\n",
       "  </thead>\n",
       "  <tbody>\n",
       "    <tr>\n",
       "      <th>0</th>\n",
       "      <td>dog</td>\n",
       "      <td>apple</td>\n",
       "      <td>1</td>\n",
       "    </tr>\n",
       "    <tr>\n",
       "      <th>1</th>\n",
       "      <td>cat</td>\n",
       "      <td>pear</td>\n",
       "      <td>2</td>\n",
       "    </tr>\n",
       "    <tr>\n",
       "      <th>2</th>\n",
       "      <td>bird</td>\n",
       "      <td>grape</td>\n",
       "      <td>3</td>\n",
       "    </tr>\n",
       "    <tr>\n",
       "      <th>3</th>\n",
       "      <td>cat</td>\n",
       "      <td>kiwi</td>\n",
       "      <td>4</td>\n",
       "    </tr>\n",
       "    <tr>\n",
       "      <th>4</th>\n",
       "      <td>dog</td>\n",
       "      <td>lime</td>\n",
       "      <td>5</td>\n",
       "    </tr>\n",
       "  </tbody>\n",
       "</table>\n",
       "</div>"
      ],
      "text/plain": [
       "  duplicates    str  int\n",
       "0        dog  apple    1\n",
       "1        cat   pear    2\n",
       "2       bird  grape    3\n",
       "3        cat   kiwi    4\n",
       "4        dog   lime    5"
      ]
     },
     "execution_count": 10,
     "metadata": {},
     "output_type": "execute_result"
    }
   ],
   "source": [
    "from single_table_processing import get_most_similar_cols\n",
    "text_to_compare = \"My cat loves to eat pear\"\n",
    "similar_cols = get_most_similar_cols(df, text_to_compare)\n",
    "similar_cols"
   ]
  },
  {
   "cell_type": "code",
   "execution_count": 11,
   "metadata": {},
   "outputs": [
    {
     "data": {
      "text/html": [
       "<div>\n",
       "<style scoped>\n",
       "    .dataframe tbody tr th:only-of-type {\n",
       "        vertical-align: middle;\n",
       "    }\n",
       "\n",
       "    .dataframe tbody tr th {\n",
       "        vertical-align: top;\n",
       "    }\n",
       "\n",
       "    .dataframe thead th {\n",
       "        text-align: right;\n",
       "    }\n",
       "</style>\n",
       "<table border=\"1\" class=\"dataframe\">\n",
       "  <thead>\n",
       "    <tr style=\"text-align: right;\">\n",
       "      <th></th>\n",
       "      <th>int</th>\n",
       "      <th>str</th>\n",
       "      <th>duplicates</th>\n",
       "    </tr>\n",
       "  </thead>\n",
       "  <tbody>\n",
       "    <tr>\n",
       "      <th>0</th>\n",
       "      <td>1</td>\n",
       "      <td>apple</td>\n",
       "      <td>dog</td>\n",
       "    </tr>\n",
       "    <tr>\n",
       "      <th>1</th>\n",
       "      <td>2</td>\n",
       "      <td>pear</td>\n",
       "      <td>cat</td>\n",
       "    </tr>\n",
       "    <tr>\n",
       "      <th>2</th>\n",
       "      <td>3</td>\n",
       "      <td>grape</td>\n",
       "      <td>bird</td>\n",
       "    </tr>\n",
       "    <tr>\n",
       "      <th>3</th>\n",
       "      <td>4</td>\n",
       "      <td>kiwi</td>\n",
       "      <td>cat</td>\n",
       "    </tr>\n",
       "    <tr>\n",
       "      <th>4</th>\n",
       "      <td>5</td>\n",
       "      <td>lime</td>\n",
       "      <td>dog</td>\n",
       "    </tr>\n",
       "  </tbody>\n",
       "</table>\n",
       "</div>"
      ],
      "text/plain": [
       "   int    str duplicates\n",
       "0    1  apple        dog\n",
       "1    2   pear        cat\n",
       "2    3  grape       bird\n",
       "3    4   kiwi        cat\n",
       "4    5   lime        dog"
      ]
     },
     "execution_count": 11,
     "metadata": {},
     "output_type": "execute_result"
    }
   ],
   "source": [
    "df "
   ]
  },
  {
   "cell_type": "code",
   "execution_count": 12,
   "metadata": {},
   "outputs": [
    {
     "data": {
      "text/html": [
       "<div>\n",
       "<style scoped>\n",
       "    .dataframe tbody tr th:only-of-type {\n",
       "        vertical-align: middle;\n",
       "    }\n",
       "\n",
       "    .dataframe tbody tr th {\n",
       "        vertical-align: top;\n",
       "    }\n",
       "\n",
       "    .dataframe thead th {\n",
       "        text-align: right;\n",
       "    }\n",
       "</style>\n",
       "<table border=\"1\" class=\"dataframe\">\n",
       "  <thead>\n",
       "    <tr style=\"text-align: right;\">\n",
       "      <th></th>\n",
       "      <th>int</th>\n",
       "      <th>str</th>\n",
       "      <th>duplicates</th>\n",
       "    </tr>\n",
       "  </thead>\n",
       "  <tbody>\n",
       "    <tr>\n",
       "      <th>2</th>\n",
       "      <td>3</td>\n",
       "      <td>grape</td>\n",
       "      <td>bird</td>\n",
       "    </tr>\n",
       "    <tr>\n",
       "      <th>0</th>\n",
       "      <td>1</td>\n",
       "      <td>apple</td>\n",
       "      <td>dog</td>\n",
       "    </tr>\n",
       "    <tr>\n",
       "      <th>1</th>\n",
       "      <td>2</td>\n",
       "      <td>pear</td>\n",
       "      <td>cat</td>\n",
       "    </tr>\n",
       "    <tr>\n",
       "      <th>3</th>\n",
       "      <td>4</td>\n",
       "      <td>kiwi</td>\n",
       "      <td>cat</td>\n",
       "    </tr>\n",
       "    <tr>\n",
       "      <th>4</th>\n",
       "      <td>5</td>\n",
       "      <td>lime</td>\n",
       "      <td>dog</td>\n",
       "    </tr>\n",
       "  </tbody>\n",
       "</table>\n",
       "</div>"
      ],
      "text/plain": [
       "   int    str duplicates\n",
       "2    3  grape       bird\n",
       "0    1  apple        dog\n",
       "1    2   pear        cat\n",
       "3    4   kiwi        cat\n",
       "4    5   lime        dog"
      ]
     },
     "execution_count": 12,
     "metadata": {},
     "output_type": "execute_result"
    }
   ],
   "source": [
    "from single_table_processing import rank_rows_by_tfidf\n",
    "\n",
    "rank_rows_by_tfidf(df)"
   ]
  },
  {
   "cell_type": "code",
   "execution_count": 13,
   "metadata": {},
   "outputs": [],
   "source": [
    "from huggingface_dataset import *"
   ]
  },
  {
   "cell_type": "code",
   "execution_count": 14,
   "metadata": {},
   "outputs": [
    {
     "data": {
      "text/html": [
       "<div>\n",
       "<style scoped>\n",
       "    .dataframe tbody tr th:only-of-type {\n",
       "        vertical-align: middle;\n",
       "    }\n",
       "\n",
       "    .dataframe tbody tr th {\n",
       "        vertical-align: top;\n",
       "    }\n",
       "\n",
       "    .dataframe thead th {\n",
       "        text-align: right;\n",
       "    }\n",
       "</style>\n",
       "<table border=\"1\" class=\"dataframe\">\n",
       "  <thead>\n",
       "    <tr style=\"text-align: right;\">\n",
       "      <th></th>\n",
       "      <th>Column_0</th>\n",
       "      <th>Column_1</th>\n",
       "      <th>Column_2</th>\n",
       "      <th>Column_3</th>\n",
       "      <th>Column_4</th>\n",
       "      <th>Column_5</th>\n",
       "      <th>Column_6</th>\n",
       "      <th>Column_7</th>\n",
       "      <th>Column_8</th>\n",
       "      <th>Column_9</th>\n",
       "    </tr>\n",
       "  </thead>\n",
       "  <tbody>\n",
       "    <tr>\n",
       "      <th>0</th>\n",
       "      <td>0</td>\n",
       "      <td>0</td>\n",
       "      <td>0</td>\n",
       "      <td>0</td>\n",
       "      <td>0</td>\n",
       "      <td>0</td>\n",
       "      <td>0</td>\n",
       "      <td>0</td>\n",
       "      <td>0</td>\n",
       "      <td>0</td>\n",
       "    </tr>\n",
       "    <tr>\n",
       "      <th>1</th>\n",
       "      <td>0</td>\n",
       "      <td>1</td>\n",
       "      <td>2</td>\n",
       "      <td>3</td>\n",
       "      <td>4</td>\n",
       "      <td>5</td>\n",
       "      <td>6</td>\n",
       "      <td>7</td>\n",
       "      <td>8</td>\n",
       "      <td>9</td>\n",
       "    </tr>\n",
       "    <tr>\n",
       "      <th>2</th>\n",
       "      <td>0</td>\n",
       "      <td>2</td>\n",
       "      <td>4</td>\n",
       "      <td>6</td>\n",
       "      <td>8</td>\n",
       "      <td>10</td>\n",
       "      <td>12</td>\n",
       "      <td>14</td>\n",
       "      <td>16</td>\n",
       "      <td>18</td>\n",
       "    </tr>\n",
       "    <tr>\n",
       "      <th>3</th>\n",
       "      <td>0</td>\n",
       "      <td>3</td>\n",
       "      <td>6</td>\n",
       "      <td>9</td>\n",
       "      <td>12</td>\n",
       "      <td>15</td>\n",
       "      <td>18</td>\n",
       "      <td>21</td>\n",
       "      <td>24</td>\n",
       "      <td>27</td>\n",
       "    </tr>\n",
       "    <tr>\n",
       "      <th>4</th>\n",
       "      <td>0</td>\n",
       "      <td>4</td>\n",
       "      <td>8</td>\n",
       "      <td>12</td>\n",
       "      <td>16</td>\n",
       "      <td>20</td>\n",
       "      <td>24</td>\n",
       "      <td>28</td>\n",
       "      <td>32</td>\n",
       "      <td>36</td>\n",
       "    </tr>\n",
       "    <tr>\n",
       "      <th>5</th>\n",
       "      <td>0</td>\n",
       "      <td>5</td>\n",
       "      <td>10</td>\n",
       "      <td>15</td>\n",
       "      <td>20</td>\n",
       "      <td>25</td>\n",
       "      <td>30</td>\n",
       "      <td>35</td>\n",
       "      <td>40</td>\n",
       "      <td>45</td>\n",
       "    </tr>\n",
       "    <tr>\n",
       "      <th>6</th>\n",
       "      <td>0</td>\n",
       "      <td>6</td>\n",
       "      <td>12</td>\n",
       "      <td>18</td>\n",
       "      <td>24</td>\n",
       "      <td>30</td>\n",
       "      <td>36</td>\n",
       "      <td>42</td>\n",
       "      <td>48</td>\n",
       "      <td>54</td>\n",
       "    </tr>\n",
       "    <tr>\n",
       "      <th>7</th>\n",
       "      <td>0</td>\n",
       "      <td>7</td>\n",
       "      <td>14</td>\n",
       "      <td>21</td>\n",
       "      <td>28</td>\n",
       "      <td>35</td>\n",
       "      <td>42</td>\n",
       "      <td>49</td>\n",
       "      <td>56</td>\n",
       "      <td>63</td>\n",
       "    </tr>\n",
       "    <tr>\n",
       "      <th>8</th>\n",
       "      <td>0</td>\n",
       "      <td>8</td>\n",
       "      <td>16</td>\n",
       "      <td>24</td>\n",
       "      <td>32</td>\n",
       "      <td>40</td>\n",
       "      <td>48</td>\n",
       "      <td>56</td>\n",
       "      <td>64</td>\n",
       "      <td>72</td>\n",
       "    </tr>\n",
       "    <tr>\n",
       "      <th>9</th>\n",
       "      <td>0</td>\n",
       "      <td>9</td>\n",
       "      <td>18</td>\n",
       "      <td>27</td>\n",
       "      <td>36</td>\n",
       "      <td>45</td>\n",
       "      <td>54</td>\n",
       "      <td>63</td>\n",
       "      <td>72</td>\n",
       "      <td>81</td>\n",
       "    </tr>\n",
       "  </tbody>\n",
       "</table>\n",
       "</div>"
      ],
      "text/plain": [
       "   Column_0  Column_1  Column_2  Column_3  Column_4  Column_5  Column_6  \\\n",
       "0         0         0         0         0         0         0         0   \n",
       "1         0         1         2         3         4         5         6   \n",
       "2         0         2         4         6         8        10        12   \n",
       "3         0         3         6         9        12        15        18   \n",
       "4         0         4         8        12        16        20        24   \n",
       "5         0         5        10        15        20        25        30   \n",
       "6         0         6        12        18        24        30        36   \n",
       "7         0         7        14        21        28        35        42   \n",
       "8         0         8        16        24        32        40        48   \n",
       "9         0         9        18        27        36        45        54   \n",
       "\n",
       "   Column_7  Column_8  Column_9  \n",
       "0         0         0         0  \n",
       "1         7         8         9  \n",
       "2        14        16        18  \n",
       "3        21        24        27  \n",
       "4        28        32        36  \n",
       "5        35        40        45  \n",
       "6        42        48        54  \n",
       "7        49        56        63  \n",
       "8        56        64        72  \n",
       "9        63        72        81  "
      ]
     },
     "execution_count": 14,
     "metadata": {},
     "output_type": "execute_result"
    }
   ],
   "source": [
    "\n",
    "# Generating a table where the cell value is the multiplication of the column number and the row number\n",
    "long_table_multiplied = {\n",
    "    f\"Column_{i}\": [i * j for j in range(100)] for i in range(10)\n",
    "}\n",
    "\n",
    "# Converting the table to a DataFrame for display\n",
    "df_long_table_multiplied = DataFrame(long_table_multiplied)\n",
    "df_long_table_multiplied.head(10)  # Displaying the first 10 rows of the table for reference\n"
   ]
  },
  {
   "cell_type": "code",
   "execution_count": 15,
   "metadata": {},
   "outputs": [
    {
     "data": {
      "text/html": [
       "<div>\n",
       "<style scoped>\n",
       "    .dataframe tbody tr th:only-of-type {\n",
       "        vertical-align: middle;\n",
       "    }\n",
       "\n",
       "    .dataframe tbody tr th {\n",
       "        vertical-align: top;\n",
       "    }\n",
       "\n",
       "    .dataframe thead th {\n",
       "        text-align: right;\n",
       "    }\n",
       "</style>\n",
       "<table border=\"1\" class=\"dataframe\">\n",
       "  <thead>\n",
       "    <tr style=\"text-align: right;\">\n",
       "      <th></th>\n",
       "      <th>Column_0</th>\n",
       "      <th>Column_1</th>\n",
       "      <th>Column_2</th>\n",
       "      <th>Column_3</th>\n",
       "      <th>Column_4</th>\n",
       "      <th>Column_5</th>\n",
       "      <th>Column_6</th>\n",
       "      <th>Column_7</th>\n",
       "      <th>Column_8</th>\n",
       "      <th>Column_9</th>\n",
       "    </tr>\n",
       "  </thead>\n",
       "  <tbody>\n",
       "    <tr>\n",
       "      <th>0</th>\n",
       "      <td>zero</td>\n",
       "      <td>zero</td>\n",
       "      <td>zero</td>\n",
       "      <td>zero</td>\n",
       "      <td>zero</td>\n",
       "      <td>zero</td>\n",
       "      <td>zero</td>\n",
       "      <td>zero</td>\n",
       "      <td>zero</td>\n",
       "      <td>zero</td>\n",
       "    </tr>\n",
       "    <tr>\n",
       "      <th>1</th>\n",
       "      <td>zero</td>\n",
       "      <td>one</td>\n",
       "      <td>two</td>\n",
       "      <td>three</td>\n",
       "      <td>four</td>\n",
       "      <td>five</td>\n",
       "      <td>six</td>\n",
       "      <td>seven</td>\n",
       "      <td>eight</td>\n",
       "      <td>nine</td>\n",
       "    </tr>\n",
       "    <tr>\n",
       "      <th>2</th>\n",
       "      <td>zero</td>\n",
       "      <td>two</td>\n",
       "      <td>four</td>\n",
       "      <td>six</td>\n",
       "      <td>eight</td>\n",
       "      <td>ten</td>\n",
       "      <td>twelve</td>\n",
       "      <td>fourteen</td>\n",
       "      <td>sixteen</td>\n",
       "      <td>eighteen</td>\n",
       "    </tr>\n",
       "    <tr>\n",
       "      <th>3</th>\n",
       "      <td>zero</td>\n",
       "      <td>three</td>\n",
       "      <td>six</td>\n",
       "      <td>nine</td>\n",
       "      <td>twelve</td>\n",
       "      <td>fifteen</td>\n",
       "      <td>eighteen</td>\n",
       "      <td>twenty one</td>\n",
       "      <td>twenty four</td>\n",
       "      <td>twenty seven</td>\n",
       "    </tr>\n",
       "    <tr>\n",
       "      <th>4</th>\n",
       "      <td>zero</td>\n",
       "      <td>four</td>\n",
       "      <td>eight</td>\n",
       "      <td>twelve</td>\n",
       "      <td>sixteen</td>\n",
       "      <td>twenty</td>\n",
       "      <td>twenty four</td>\n",
       "      <td>twenty eight</td>\n",
       "      <td>thirty two</td>\n",
       "      <td>thirty six</td>\n",
       "    </tr>\n",
       "    <tr>\n",
       "      <th>5</th>\n",
       "      <td>zero</td>\n",
       "      <td>five</td>\n",
       "      <td>ten</td>\n",
       "      <td>fifteen</td>\n",
       "      <td>twenty</td>\n",
       "      <td>twenty five</td>\n",
       "      <td>thirty</td>\n",
       "      <td>thirty five</td>\n",
       "      <td>forty</td>\n",
       "      <td>forty five</td>\n",
       "    </tr>\n",
       "    <tr>\n",
       "      <th>6</th>\n",
       "      <td>zero</td>\n",
       "      <td>six</td>\n",
       "      <td>twelve</td>\n",
       "      <td>eighteen</td>\n",
       "      <td>twenty four</td>\n",
       "      <td>thirty</td>\n",
       "      <td>thirty six</td>\n",
       "      <td>forty two</td>\n",
       "      <td>forty eight</td>\n",
       "      <td>fifty four</td>\n",
       "    </tr>\n",
       "    <tr>\n",
       "      <th>7</th>\n",
       "      <td>zero</td>\n",
       "      <td>seven</td>\n",
       "      <td>fourteen</td>\n",
       "      <td>twenty one</td>\n",
       "      <td>twenty eight</td>\n",
       "      <td>thirty five</td>\n",
       "      <td>forty two</td>\n",
       "      <td>forty nine</td>\n",
       "      <td>fifty six</td>\n",
       "      <td>sixty three</td>\n",
       "    </tr>\n",
       "    <tr>\n",
       "      <th>8</th>\n",
       "      <td>zero</td>\n",
       "      <td>eight</td>\n",
       "      <td>sixteen</td>\n",
       "      <td>twenty four</td>\n",
       "      <td>thirty two</td>\n",
       "      <td>forty</td>\n",
       "      <td>forty eight</td>\n",
       "      <td>fifty six</td>\n",
       "      <td>sixty four</td>\n",
       "      <td>seventy two</td>\n",
       "    </tr>\n",
       "    <tr>\n",
       "      <th>9</th>\n",
       "      <td>zero</td>\n",
       "      <td>nine</td>\n",
       "      <td>eighteen</td>\n",
       "      <td>twenty seven</td>\n",
       "      <td>thirty six</td>\n",
       "      <td>forty five</td>\n",
       "      <td>fifty four</td>\n",
       "      <td>sixty three</td>\n",
       "      <td>seventy two</td>\n",
       "      <td>eighty one</td>\n",
       "    </tr>\n",
       "  </tbody>\n",
       "</table>\n",
       "</div>"
      ],
      "text/plain": [
       "  Column_0 Column_1  Column_2      Column_3      Column_4     Column_5  \\\n",
       "0     zero     zero      zero          zero          zero         zero   \n",
       "1     zero      one       two         three          four         five   \n",
       "2     zero      two      four           six         eight          ten   \n",
       "3     zero    three       six          nine        twelve      fifteen   \n",
       "4     zero     four     eight        twelve       sixteen       twenty   \n",
       "5     zero     five       ten       fifteen        twenty  twenty five   \n",
       "6     zero      six    twelve      eighteen   twenty four       thirty   \n",
       "7     zero    seven  fourteen    twenty one  twenty eight  thirty five   \n",
       "8     zero    eight   sixteen   twenty four    thirty two        forty   \n",
       "9     zero     nine  eighteen  twenty seven    thirty six   forty five   \n",
       "\n",
       "      Column_6      Column_7     Column_8      Column_9  \n",
       "0         zero          zero         zero          zero  \n",
       "1          six         seven        eight          nine  \n",
       "2       twelve      fourteen      sixteen      eighteen  \n",
       "3     eighteen    twenty one  twenty four  twenty seven  \n",
       "4  twenty four  twenty eight   thirty two    thirty six  \n",
       "5       thirty   thirty five        forty    forty five  \n",
       "6   thirty six     forty two  forty eight    fifty four  \n",
       "7    forty two    forty nine    fifty six   sixty three  \n",
       "8  forty eight     fifty six   sixty four   seventy two  \n",
       "9   fifty four   sixty three  seventy two    eighty one  "
      ]
     },
     "execution_count": 15,
     "metadata": {},
     "output_type": "execute_result"
    }
   ],
   "source": [
    "def number_to_words(num):\n",
    "    \"\"\"Convert a number into words.\"\"\"\n",
    "    if num == 0:\n",
    "        return 'zero'\n",
    "\n",
    "    under_20 = ['one', 'two', 'three', 'four', 'five', 'six', 'seven', 'eight', 'nine', 'ten',\n",
    "                'eleven', 'twelve', 'thirteen', 'fourteen', 'fifteen', 'sixteen', 'seventeen', 'eighteen', 'nineteen']\n",
    "\n",
    "    tens = ['', '', 'twenty', 'thirty', 'forty', 'fifty', 'sixty', 'seventy', 'eighty', 'ninety']\n",
    "\n",
    "    if num < 20:\n",
    "        return under_20[num - 1]\n",
    "\n",
    "    if num < 100:\n",
    "        return tens[num // 10] + ('' if num % 10 == 0 else ' ' + under_20[num % 10 - 1])\n",
    "\n",
    "    if num < 1000:\n",
    "        return under_20[num // 100 - 1] + ' hundred' + ('' if num % 100 == 0 else ' ' + number_to_words(num % 100))\n",
    "\n",
    "    if num < 1000000:\n",
    "        return number_to_words(num // 1000) + ' thousand' + ('' if num % 1000 == 0 else ' ' + number_to_words(num % 1000))\n",
    "\n",
    "    return str(num)  # This function handles up to 999,999; other numbers will be returned as-is\n",
    "\n",
    "# Convert the cell values in the DataFrame to English words\n",
    "for col in df_long_table_multiplied.columns:\n",
    "    df_long_table_multiplied[col] = df_long_table_multiplied[col].apply(lambda x: number_to_words(int(x)))\n",
    "\n",
    "df_long_table_multiplied.head(10)\n"
   ]
  },
  {
   "cell_type": "code",
   "execution_count": 16,
   "metadata": {},
   "outputs": [],
   "source": [
    "from transformers import BertTokenizer\n",
    "tokenizer = BertTokenizer.from_pretrained('bert-base-uncased')"
   ]
  },
  {
   "cell_type": "code",
   "execution_count": 17,
   "metadata": {},
   "outputs": [],
   "source": [
    "example_tables = chunk_tables([df_long_table_multiplied, df_long_table_multiplied], 'bert-base-uncased', 512, tokenizer, max_col=3, max_row=10, max_token_per_cell=1)"
   ]
  },
  {
   "cell_type": "code",
   "execution_count": 18,
   "metadata": {},
   "outputs": [],
   "source": [
    "example_tables = chunk_neighbor_tables([df_long_table_multiplied, df_long_table_multiplied],  'Column_4',2, 'bert-base-uncased', 512, tokenizer)"
   ]
  },
  {
   "cell_type": "code",
   "execution_count": 19,
   "metadata": {},
   "outputs": [],
   "source": [
    "# for table in example_tables:\n",
    "#     print(table)"
   ]
  },
  {
   "cell_type": "code",
   "execution_count": 20,
   "metadata": {},
   "outputs": [],
   "source": [
    "example_tables = chunk_neighbor_tables([df_long_table_multiplied, df_long_table_multiplied],  'Column_4',2, 'bert-base-uncased', 512, tokenizer)"
   ]
  },
  {
   "cell_type": "code",
   "execution_count": 21,
   "metadata": {},
   "outputs": [],
   "source": [
    "model_name = 'bert-base-uncased'\n",
    "dataset = TableColumnDataset(example_tables, tokenizer, 512, \"[PAD]\", model_name)\n"
   ]
  },
  {
   "cell_type": "code",
   "execution_count": 22,
   "metadata": {},
   "outputs": [],
   "source": [
    "from torch.utils.data import DataLoader\n",
    "dataloader = DataLoader(dataset, batch_size=32, shuffle=False)\n"
   ]
  },
  {
   "cell_type": "code",
   "execution_count": 23,
   "metadata": {},
   "outputs": [
    {
     "name": "stdout",
     "output_type": "stream",
     "text": [
      "tensor([[ 101, 5930, 1035,  ...,    0,    0,    0],\n",
      "        [ 101, 5930, 1035,  ...,    0,    0,    0],\n",
      "        [ 101, 5930, 1035,  ...,    0,    0,    0],\n",
      "        ...,\n",
      "        [ 101, 5930, 1035,  ...,    0,    0,    0],\n",
      "        [ 101, 5930, 1035,  ...,    0,    0,    0],\n",
      "        [ 101, 5930, 1035,  ...,    0,    0,    0]])\n",
      "tensor([[1, 1, 1,  ..., 0, 0, 0],\n",
      "        [1, 1, 1,  ..., 0, 0, 0],\n",
      "        [1, 1, 1,  ..., 0, 0, 0],\n",
      "        ...,\n",
      "        [1, 1, 1,  ..., 0, 0, 0],\n",
      "        [1, 1, 1,  ..., 0, 0, 0],\n",
      "        [1, 1, 1,  ..., 0, 0, 0]])\n",
      "[tensor([0, 0, 0, 0, 0, 0, 0, 0]), tensor([41, 49, 90, 99, 41, 49, 90, 99]), tensor([ 86, 127, 185, 201,  86, 127, 185, 201]), tensor([131, 221, 279, 295, 131, 221, 279, 295]), tensor([177, 310, 367, 384, 177, 310, 367, 384])]\n",
      "[[tensor([2, 2, 2, 2, 2, 2, 2, 2]), tensor([7, 7, 7, 7, 7, 7, 7, 7])], [tensor([ 0, 25, 50, 75,  0, 25, 50, 75]), tensor([ 25,  50,  75, 100,  25,  50,  75, 100])]]\n",
      "tensor([0, 0, 0, 0, 1, 1, 1, 1])\n"
     ]
    }
   ],
   "source": [
    "for batch in dataloader:\n",
    "    if model_name.startswith(\"google/tapas\"):\n",
    "        inputs, positions, indices = batch\n",
    "        print(inputs)\n",
    "        print(positions)\n",
    "        print(indices)\n",
    "        # Further processing for TAPAS model...\n",
    "    else:\n",
    "        input_ids, attention_mask, token_positions, positions, indices = batch\n",
    "        print(input_ids)\n",
    "        print(attention_mask)\n",
    "        print(token_positions)\n",
    "        print(positions)\n",
    "        print(indices)"
   ]
  },
  {
   "cell_type": "code",
   "execution_count": 51,
   "metadata": {},
   "outputs": [],
   "source": [
    "from transformers import AutoTokenizer, TapasModel\n",
    "import pandas as pd\n",
    "\n",
    "tokenizer = AutoTokenizer.from_pretrained(\"google/tapas-base\")\n",
    "model = TapasModel.from_pretrained(\"google/tapas-base\")\n",
    "\n",
    "data = {\n",
    "    \"Actors\": [\"Brad Pitt\", \"Leonardo Di Caprio\", \"George Clooney\"],\n",
    "    \"Age\": [\"56\", \"45\", \"59\"],\n",
    "    \"Number of movies\": [\"87\", \"53\", \"69\"],\n",
    "}\n",
    "table = pd.DataFrame.from_dict(data)\n",
    "queries = [\"\"]\n",
    "\n",
    "inputs = tokenizer(table=table, queries=[\"\"],  padding=\"max_length\", return_tensors=\"pt\")\n"
   ]
  },
  {
   "cell_type": "code",
   "execution_count": 52,
   "metadata": {},
   "outputs": [],
   "source": [
    "batch_input_ids = []\n",
    "batch_token_type_ids = []\n",
    "batch_attention_masks = []"
   ]
  },
  {
   "cell_type": "code",
   "execution_count": 53,
   "metadata": {},
   "outputs": [],
   "source": [
    "batch_input_ids.append(inputs[\"input_ids\"][0])\n",
    "batch_token_type_ids.append(inputs[\"token_type_ids\"][0])\n",
    "batch_attention_masks.append(inputs[\"attention_mask\"][0])\n",
    "batch_input_ids.append(inputs[\"input_ids\"][0])\n",
    "batch_token_type_ids.append(inputs[\"token_type_ids\"][0])\n",
    "batch_attention_masks.append(inputs[\"attention_mask\"][0])"
   ]
  },
  {
   "cell_type": "code",
   "execution_count": 54,
   "metadata": {},
   "outputs": [
    {
     "name": "stdout",
     "output_type": "stream",
     "text": [
      "dict_keys(['input_ids', 'token_type_ids', 'attention_mask'])\n",
      "torch.Size([1, 512])\n",
      "torch.Size([1, 512, 7])\n",
      "torch.Size([1, 512])\n"
     ]
    }
   ],
   "source": [
    "print(inputs.keys())\n",
    "print(inputs[\"input_ids\"].shape)\n",
    "print(inputs[\"token_type_ids\"].shape)\n",
    "print(inputs[\"attention_mask\"].shape)"
   ]
  },
  {
   "cell_type": "code",
   "execution_count": 55,
   "metadata": {},
   "outputs": [
    {
     "name": "stdout",
     "output_type": "stream",
     "text": [
      "dict_keys(['input_ids', 'token_type_ids', 'attention_mask'])\n",
      "torch.Size([2, 512])\n",
      "torch.Size([2, 512, 7])\n",
      "torch.Size([2, 512])\n"
     ]
    }
   ],
   "source": [
    "batched_inputs = {\n",
    "    \"input_ids\": torch.stack(batch_input_ids, dim=0),\n",
    "    \"token_type_ids\": torch.stack(batch_token_type_ids, dim=0),\n",
    "    \"attention_mask\": torch.stack(batch_attention_masks, dim=0)\n",
    "}\n",
    "\n",
    "print(batched_inputs.keys())\n",
    "print(batched_inputs[\"input_ids\"].shape)\n",
    "print(batched_inputs[\"token_type_ids\"].shape)\n",
    "print(batched_inputs[\"attention_mask\"].shape)\n"
   ]
  },
  {
   "cell_type": "code",
   "execution_count": 65,
   "metadata": {},
   "outputs": [
    {
     "name": "stdout",
     "output_type": "stream",
     "text": [
      "tensor([ 7,  8,  9, 10])\n",
      "tensor([11, 12, 13, 14, 15, 16])\n",
      "tensor([17, 18, 19, 20, 21, 22])\n"
     ]
    }
   ],
   "source": [
    "for row_id in range(1, max(batched_inputs[\"token_type_ids\"][1][:, 2]) + 1):\n",
    "    indices = torch.where(batched_inputs[\"token_type_ids\"][1][:, 2] == row_id)[0]\n",
    "    print(indices)"
   ]
  },
  {
   "cell_type": "code",
   "execution_count": 67,
   "metadata": {},
   "outputs": [],
   "source": [
    "outputs = model(**batched_inputs)"
   ]
  },
  {
   "cell_type": "code",
   "execution_count": 69,
   "metadata": {},
   "outputs": [
    {
     "name": "stdout",
     "output_type": "stream",
     "text": [
      "torch.Size([2, 512, 768])\n"
     ]
    }
   ],
   "source": [
    "print(outputs.last_hidden_state.shape)\n",
    "embeddings = outputs.last_hidden_state[0][indices]"
   ]
  },
  {
   "cell_type": "code",
   "execution_count": 71,
   "metadata": {},
   "outputs": [
    {
     "data": {
      "text/plain": [
       "torch.Size([6, 768])"
      ]
     },
     "execution_count": 71,
     "metadata": {},
     "output_type": "execute_result"
    }
   ],
   "source": [
    "embeddings.shape"
   ]
  },
  {
   "cell_type": "code",
   "execution_count": 73,
   "metadata": {},
   "outputs": [
    {
     "data": {
      "text/plain": [
       "torch.Size([768])"
      ]
     },
     "execution_count": 73,
     "metadata": {},
     "output_type": "execute_result"
    }
   ],
   "source": [
    "row_embedding = embeddings.mean(dim=0)\n",
    "row_embedding.shape"
   ]
  },
  {
   "cell_type": "code",
   "execution_count": 6,
   "metadata": {},
   "outputs": [
    {
     "data": {
      "application/vnd.jupyter.widget-view+json": {
       "model_id": "2792d66e4562404199512dd172bb3f36",
       "version_major": 2,
       "version_minor": 0
      },
      "text/plain": [
       "Downloading pytorch_model.bin:   0%|          | 0.00/440M [00:00<?, ?B/s]"
      ]
     },
     "metadata": {},
     "output_type": "display_data"
    },
    {
     "name": "stderr",
     "output_type": "stream",
     "text": [
      "c:\\Users\\Ben\\anaconda3\\envs\\545\\lib\\site-packages\\huggingface_hub\\file_download.py:133: UserWarning: `huggingface_hub` cache-system uses symlinks by default to efficiently store duplicated files but your machine does not support them in C:\\Users\\Ben\\.cache\\huggingface\\hub. Caching files will still work but in a degraded version that might require more space on your disk. This warning can be disabled by setting the `HF_HUB_DISABLE_SYMLINKS_WARNING` environment variable. For more details, see https://huggingface.co/docs/huggingface_hub/how-to-cache#limitations.\n",
      "To support symlinks on Windows, you either need to activate Developer Mode or to run Python as an administrator. In order to see activate developer mode, see this article: https://docs.microsoft.com/en-us/windows/apps/get-started/enable-your-device-for-development\n",
      "  warnings.warn(message)\n",
      "Some weights of the model checkpoint at bert-base-uncased were not used when initializing BertModel: ['cls.predictions.decoder.weight', 'cls.predictions.transform.LayerNorm.bias', 'cls.seq_relationship.weight', 'cls.seq_relationship.bias', 'cls.predictions.transform.dense.weight', 'cls.predictions.transform.LayerNorm.weight', 'cls.predictions.bias', 'cls.predictions.transform.dense.bias']\n",
      "- This IS expected if you are initializing BertModel from the checkpoint of a model trained on another task or with another architecture (e.g. initializing a BertForSequenceClassification model from a BertForPreTraining model).\n",
      "- This IS NOT expected if you are initializing BertModel from the checkpoint of a model that you expect to be exactly identical (initializing a BertForSequenceClassification model from a BertForSequenceClassification model).\n"
     ]
    }
   ],
   "source": [
    "from transformers import BertTokenizer, BertModel\n",
    "import torch\n",
    "model_name = \"bert-base-uncased\"\n",
    "model = BertModel.from_pretrained(model_name)\n",
    "tokenizer = BertTokenizer.from_pretrained(model_name)"
   ]
  },
  {
   "cell_type": "code",
   "execution_count": 7,
   "metadata": {},
   "outputs": [],
   "source": [
    "sequences = [\"This is a positive sentence!\", \"This is a negative comment.\"]\n",
    "inputs = tokenizer(sequences, return_tensors=\"pt\", padding=True, truncation=True, max_length=128)\n"
   ]
  },
  {
   "cell_type": "code",
   "execution_count": 10,
   "metadata": {},
   "outputs": [
    {
     "name": "stdout",
     "output_type": "stream",
     "text": [
      "dict_keys(['input_ids', 'token_type_ids', 'attention_mask'])\n"
     ]
    }
   ],
   "source": [
    "print(inputs.keys())"
   ]
  },
  {
   "cell_type": "code",
   "execution_count": 11,
   "metadata": {},
   "outputs": [
    {
     "name": "stdout",
     "output_type": "stream",
     "text": [
      "tensor([[ 101, 2023, 2003, 1037, 3893, 6251,  999,  102],\n",
      "        [ 101, 2023, 2003, 1037, 4997, 7615, 1012,  102]])\n",
      "tensor([[0, 0, 0, 0, 0, 0, 0, 0],\n",
      "        [0, 0, 0, 0, 0, 0, 0, 0]])\n",
      "tensor([[1, 1, 1, 1, 1, 1, 1, 1],\n",
      "        [1, 1, 1, 1, 1, 1, 1, 1]])\n"
     ]
    }
   ],
   "source": [
    "print(inputs['input_ids'])\n",
    "print(inputs['token_type_ids'])\n",
    "print(inputs['attention_mask'])"
   ]
  },
  {
   "cell_type": "code",
   "execution_count": 14,
   "metadata": {},
   "outputs": [
    {
     "data": {
      "text/plain": [
       "tensor([[[ 0.0385,  0.0743,  0.0242,  ..., -0.0842,  0.0863,  0.4935],\n",
       "         [-0.6866, -0.3217, -0.0882,  ..., -0.4354,  0.4125,  0.3192],\n",
       "         [-0.3456, -0.1643,  0.4086,  ..., -0.1561, -0.1173,  0.8148],\n",
       "         ...,\n",
       "         [ 0.4874, -0.1094,  0.0120,  ..., -0.1576, -0.2751, -0.1945],\n",
       "         [-0.1658, -0.0188, -0.0298,  ...,  0.6038,  0.0696, -0.1061],\n",
       "         [ 0.6924, -0.0049, -0.3164,  ...,  0.2431, -0.8448, -0.1762]],\n",
       "\n",
       "        [[ 0.0132,  0.3487, -0.4119,  ..., -0.1506,  0.4289,  0.5168],\n",
       "         [-0.2394, -0.1223, -0.4221,  ..., -0.4399,  0.9538,  0.6297],\n",
       "         [ 0.1617, -0.4871,  0.0902,  ..., -0.2221,  0.3014,  1.2299],\n",
       "         ...,\n",
       "         [ 0.4137, -0.0839, -0.1032,  ..., -0.1113, -0.1187,  0.0429],\n",
       "         [ 0.5053,  0.2275, -0.6482,  ...,  0.1001, -0.3152, -0.4392],\n",
       "         [-0.1526,  0.1795, -0.2566,  ...,  0.0928,  0.4112,  0.2930]]])"
      ]
     },
     "execution_count": 14,
     "metadata": {},
     "output_type": "execute_result"
    }
   ],
   "source": [
    "input_ids = inputs[\"input_ids\"]\n",
    "attention_masks = inputs[\"attention_mask\"]\n",
    "\n",
    "# Model inference\n",
    "with torch.no_grad():\n",
    "    outputs = model(input_ids=input_ids, attention_mask=attention_masks)\n",
    "outputs[0]"
   ]
  },
  {
   "cell_type": "code",
   "execution_count": 15,
   "metadata": {},
   "outputs": [
    {
     "name": "stderr",
     "output_type": "stream",
     "text": [
      "Some weights of the model checkpoint at roberta-base were not used when initializing RobertaModel: ['lm_head.dense.weight', 'lm_head.layer_norm.weight', 'lm_head.dense.bias', 'lm_head.layer_norm.bias', 'lm_head.bias', 'lm_head.decoder.weight']\n",
      "- This IS expected if you are initializing RobertaModel from the checkpoint of a model trained on another task or with another architecture (e.g. initializing a BertForSequenceClassification model from a BertForPreTraining model).\n",
      "- This IS NOT expected if you are initializing RobertaModel from the checkpoint of a model that you expect to be exactly identical (initializing a BertForSequenceClassification model from a BertForSequenceClassification model).\n"
     ]
    },
    {
     "data": {
      "text/plain": [
       "tensor([[[-0.0522,  0.0834, -0.0091,  ..., -0.0503, -0.0382, -0.0073],\n",
       "         [ 0.1267,  0.1119,  0.0542,  ...,  0.4205,  0.0425,  0.0248],\n",
       "         [ 0.1743,  0.1795,  0.1761,  ..., -0.0614,  0.0221,  0.1734],\n",
       "         ...,\n",
       "         [ 0.0474,  0.0388, -0.0181,  ..., -0.0735,  0.0274,  0.0399],\n",
       "         [ 0.0750, -0.0334,  0.0773,  ..., -0.0514, -0.1612,  0.1572],\n",
       "         [-0.0476,  0.0874, -0.0376,  ..., -0.0874, -0.0322, -0.0266]],\n",
       "\n",
       "        [[-0.0680,  0.1042, -0.0158,  ..., -0.0747, -0.0407, -0.0827],\n",
       "         [ 0.0012,  0.2099,  0.0328,  ...,  0.3939, -0.0008,  0.0491],\n",
       "         [ 0.0610,  0.2271,  0.1642,  ..., -0.0786,  0.0827,  0.1270],\n",
       "         ...,\n",
       "         [-0.0270, -0.0110, -0.0062,  ...,  0.2534,  0.0237,  0.0165],\n",
       "         [-0.0522,  0.0988, -0.0407,  ..., -0.0977, -0.0449, -0.1178],\n",
       "         [ 0.0322,  0.0708,  0.0252,  ...,  0.1127,  0.0085,  0.0161]]])"
      ]
     },
     "execution_count": 15,
     "metadata": {},
     "output_type": "execute_result"
    }
   ],
   "source": [
    "from transformers import     RobertaTokenizer, RobertaModel\n",
    "import torch\n",
    "\n",
    "# Load pre-trained model and tokenizer\n",
    "model_name = \"roberta-base\"\n",
    "model = RobertaModel.from_pretrained(model_name)\n",
    "tokenizer = RobertaTokenizer.from_pretrained(model_name)\n",
    "\n",
    "# Sample input sequences\n",
    "sequences = [\"This is a positive sentence!\", \"This is a negative comment.\"]\n",
    "\n",
    "# Tokenize and pad sequences\n",
    "inputs = tokenizer(sequences, return_tensors=\"pt\", padding=True, truncation=True, max_length=128)\n",
    "\n",
    "input_ids = inputs[\"input_ids\"]\n",
    "attention_masks = inputs[\"attention_mask\"]\n",
    "\n",
    "# Model inference\n",
    "with torch.no_grad():\n",
    "    outputs = model(input_ids=input_ids, attention_mask=attention_masks)\n",
    "outputs[0]\n"
   ]
  }
 ],
 "metadata": {
  "kernelspec": {
   "display_name": "545",
   "language": "python",
   "name": "python3"
  },
  "language_info": {
   "codemirror_mode": {
    "name": "ipython",
    "version": 3
   },
   "file_extension": ".py",
   "mimetype": "text/x-python",
   "name": "python",
   "nbconvert_exporter": "python",
   "pygments_lexer": "ipython3",
   "version": "3.10.9"
  },
  "orig_nbformat": 4
 },
 "nbformat": 4,
 "nbformat_minor": 2
}
